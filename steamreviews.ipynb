{
 "cells": [
  {
   "cell_type": "code",
   "execution_count": 4,
   "id": "8a38c75c-5f64-44ba-81fe-cbc72c5f30fb",
   "metadata": {},
   "outputs": [
    {
     "name": "stdout",
     "output_type": "stream",
     "text": [
      "<class 'pandas.core.frame.DataFrame'>\n",
      "RangeIndex: 434891 entries, 0 to 434890\n",
      "Data columns (total 8 columns):\n",
      " #   Column                  Non-Null Count   Dtype \n",
      "---  ------                  --------------   ----- \n",
      " 0   date_posted             434891 non-null  object\n",
      " 1   funny                   434891 non-null  int64 \n",
      " 2   helpful                 434891 non-null  int64 \n",
      " 3   hour_played             434891 non-null  int64 \n",
      " 4   is_early_access_review  434891 non-null  bool  \n",
      " 5   recommendation          434891 non-null  object\n",
      " 6   review                  433375 non-null  object\n",
      " 7   title                   434891 non-null  object\n",
      "dtypes: bool(1), int64(3), object(4)\n",
      "memory usage: 23.6+ MB\n"
     ]
    },
    {
     "data": {
      "text/plain": [
       "None"
      ]
     },
     "metadata": {},
     "output_type": "display_data"
    }
   ],
   "source": [
    "import pandas as pd\n",
    "import numpy as np\n",
    "import matplotlib.pyplot as plt\n",
    "import seaborn as sns\n",
    "df = pd.read_csv(r'C:\\Users\\kingd\\Documents\\mydata\\steam_reviews.csv')\n",
    "display(df.info())"
   ]
  },
  {
   "cell_type": "code",
   "execution_count": 5,
   "id": "8c20e5d0-9f0d-4c2c-b7bb-adb7477cbca6",
   "metadata": {},
   "outputs": [
    {
     "name": "stdout",
     "output_type": "stream",
     "text": [
      "date_posted                  0\n",
      "funny                        0\n",
      "helpful                      0\n",
      "hour_played                  0\n",
      "is_early_access_review       0\n",
      "recommendation               0\n",
      "review                    1516\n",
      "title                        0\n",
      "dtype: int64\n"
     ]
    }
   ],
   "source": [
    "print(df.isna().sum())"
   ]
  },
  {
   "cell_type": "code",
   "execution_count": 15,
   "id": "0f60d53c-09ad-4d42-993e-e9cd38f1bcb4",
   "metadata": {},
   "outputs": [
    {
     "name": "stdout",
     "output_type": "stream",
     "text": [
      "date_posted               0\n",
      "funny                     0\n",
      "helpful                   0\n",
      "hour_played               0\n",
      "is_early_access_review    0\n",
      "recommendation            0\n",
      "review                    0\n",
      "title                     0\n",
      "dtype: int64\n"
     ]
    },
    {
     "data": {
      "text/html": [
       "<div>\n",
       "<style scoped>\n",
       "    .dataframe tbody tr th:only-of-type {\n",
       "        vertical-align: middle;\n",
       "    }\n",
       "\n",
       "    .dataframe tbody tr th {\n",
       "        vertical-align: top;\n",
       "    }\n",
       "\n",
       "    .dataframe thead th {\n",
       "        text-align: right;\n",
       "    }\n",
       "</style>\n",
       "<table border=\"1\" class=\"dataframe\">\n",
       "  <thead>\n",
       "    <tr style=\"text-align: right;\">\n",
       "      <th></th>\n",
       "      <th>date_posted</th>\n",
       "      <th>funny</th>\n",
       "      <th>helpful</th>\n",
       "      <th>hour_played</th>\n",
       "      <th>is_early_access_review</th>\n",
       "      <th>recommendation</th>\n",
       "      <th>review</th>\n",
       "      <th>title</th>\n",
       "    </tr>\n",
       "  </thead>\n",
       "  <tbody>\n",
       "    <tr>\n",
       "      <th>0</th>\n",
       "      <td>2019-02-10</td>\n",
       "      <td>2</td>\n",
       "      <td>4</td>\n",
       "      <td>578</td>\n",
       "      <td>False</td>\n",
       "      <td>Recommended</td>\n",
       "      <td>&amp;gt Played as German Reich&amp;gt Declare war on B...</td>\n",
       "      <td>Expansion - Hearts of Iron IV: Man the Guns</td>\n",
       "    </tr>\n",
       "    <tr>\n",
       "      <th>1</th>\n",
       "      <td>2019-02-10</td>\n",
       "      <td>0</td>\n",
       "      <td>0</td>\n",
       "      <td>184</td>\n",
       "      <td>False</td>\n",
       "      <td>Recommended</td>\n",
       "      <td>yes.</td>\n",
       "      <td>Expansion - Hearts of Iron IV: Man the Guns</td>\n",
       "    </tr>\n",
       "    <tr>\n",
       "      <th>2</th>\n",
       "      <td>2019-02-07</td>\n",
       "      <td>0</td>\n",
       "      <td>0</td>\n",
       "      <td>892</td>\n",
       "      <td>False</td>\n",
       "      <td>Recommended</td>\n",
       "      <td>Very good game although a bit overpriced in my...</td>\n",
       "      <td>Expansion - Hearts of Iron IV: Man the Guns</td>\n",
       "    </tr>\n",
       "    <tr>\n",
       "      <th>3</th>\n",
       "      <td>2018-06-14</td>\n",
       "      <td>126</td>\n",
       "      <td>1086</td>\n",
       "      <td>676</td>\n",
       "      <td>False</td>\n",
       "      <td>Recommended</td>\n",
       "      <td>Out of all the reviews I wrote This one is pro...</td>\n",
       "      <td>Dead by Daylight</td>\n",
       "    </tr>\n",
       "    <tr>\n",
       "      <th>4</th>\n",
       "      <td>2017-06-20</td>\n",
       "      <td>85</td>\n",
       "      <td>2139</td>\n",
       "      <td>612</td>\n",
       "      <td>False</td>\n",
       "      <td>Recommended</td>\n",
       "      <td>Disclaimer I survivor main. I play games for f...</td>\n",
       "      <td>Dead by Daylight</td>\n",
       "    </tr>\n",
       "  </tbody>\n",
       "</table>\n",
       "</div>"
      ],
      "text/plain": [
       "  date_posted  funny  helpful  hour_played  is_early_access_review  \\\n",
       "0  2019-02-10      2        4          578                   False   \n",
       "1  2019-02-10      0        0          184                   False   \n",
       "2  2019-02-07      0        0          892                   False   \n",
       "3  2018-06-14    126     1086          676                   False   \n",
       "4  2017-06-20     85     2139          612                   False   \n",
       "\n",
       "  recommendation                                             review  \\\n",
       "0    Recommended  &gt Played as German Reich&gt Declare war on B...   \n",
       "1    Recommended                                               yes.   \n",
       "2    Recommended  Very good game although a bit overpriced in my...   \n",
       "3    Recommended  Out of all the reviews I wrote This one is pro...   \n",
       "4    Recommended  Disclaimer I survivor main. I play games for f...   \n",
       "\n",
       "                                         title  \n",
       "0  Expansion - Hearts of Iron IV: Man the Guns  \n",
       "1  Expansion - Hearts of Iron IV: Man the Guns  \n",
       "2  Expansion - Hearts of Iron IV: Man the Guns  \n",
       "3                             Dead by Daylight  \n",
       "4                             Dead by Daylight  "
      ]
     },
     "metadata": {},
     "output_type": "display_data"
    }
   ],
   "source": [
    "df = df.dropna(subset=['review'])\n",
    "print(df.isna().sum())\n",
    "display(df.head())"
   ]
  },
  {
   "cell_type": "code",
   "execution_count": 37,
   "id": "d1f1260c-db03-4565-a1c2-511fd97469d4",
   "metadata": {},
   "outputs": [
    {
     "data": {
      "text/plain": [
       "<AxesSubplot:xlabel='is_early_access_review', ylabel='count'>"
      ]
     },
     "execution_count": 37,
     "metadata": {},
     "output_type": "execute_result"
    },
    {
     "data": {
      "image/png": "[encoded data removed]",
      "text/plain": [
       "<Figure size 640x480 with 1 Axes>"
      ]
     },
     "metadata": {},
     "output_type": "display_data"
    }
   ],
   "source": [
    "sns.countplot(x=\"is_early_access_review\", hue=\"recommendation\", data=df)\n",
    "\n",
    "# This graph does to an extent show a relationship, but the bars don't convey it very well."
   ]
  },
  {
   "cell_type": "code",
   "execution_count": 46,
   "id": "1e6dbab7-7fef-4bc3-9123-94a5889129da",
   "metadata": {},
   "outputs": [
    {
     "data": {
      "text/plain": [
       "False    0.70757\n",
       "True     0.29243\n",
       "Name: is_early_access_review, dtype: float64"
      ]
     },
     "execution_count": 46,
     "metadata": {},
     "output_type": "execute_result"
    }
   ],
   "source": [
    "df['is_early_access_review'].value_counts(normalize = True)"
   ]
  },
  {
   "cell_type": "code",
   "execution_count": 47,
   "id": "b7d8fb34-c9ea-4f5d-bc27-ffa4a4021f9b",
   "metadata": {},
   "outputs": [
    {
     "data": {
      "text/plain": [
       "Recommended        0.698589\n",
       "Not Recommended    0.301411\n",
       "Name: recommendation, dtype: float64"
      ]
     },
     "execution_count": 47,
     "metadata": {},
     "output_type": "execute_result"
    }
   ],
   "source": [
    "df['recommendation'].value_counts(normalize = True)"
   ]
  },
  {
   "cell_type": "code",
   "execution_count": 48,
   "id": "a7d3b404-ced2-428a-aa2a-1ac478a4955d",
   "metadata": {},
   "outputs": [],
   "source": [
    "from scipy.stats import chi2_contingency"
   ]
  },
  {
   "cell_type": "code",
   "execution_count": 49,
   "id": "bf8fb653-ff7b-4656-abff-718211027aa8",
   "metadata": {},
   "outputs": [],
   "source": [
    "ct = pd.crosstab(df['is_early_access_review'], df['recommendation'])"
   ]
  },
  {
   "cell_type": "code",
   "execution_count": 50,
   "id": "ef74edce-a8c5-4eea-acdd-ed0539154c18",
   "metadata": {},
   "outputs": [],
   "source": [
    "chi2, p, dof, expected = chi2_contingency(ct)\n",
    "n = ct.sum().sum()\n",
    "phi = np.sqrt(chi2/n)"
   ]
  },
  {
   "cell_type": "code",
   "execution_count": 51,
   "id": "f918347c-6108-48a6-97f6-8f62e4e9128d",
   "metadata": {},
   "outputs": [
    {
     "name": "stdout",
     "output_type": "stream",
     "text": [
      "Chi-squared statistic:  3710.277468930826\n",
      "P-value:  0.0\n",
      "Degrees of freedom:  1\n",
      "Phi coefficient:  0.09252759354478898\n",
      "Expected frequencies:\n",
      " [[ 92425.57884511 214217.42115489]\n",
      " [ 38198.42115489  88533.57884511]]\n"
     ]
    }
   ],
   "source": [
    "print(\"Chi-squared statistic: \", chi2)\n",
    "print(\"P-value: \", p)\n",
    "print(\"Degrees of freedom: \", dof)\n",
    "print(\"Phi coefficient: \", phi)\n",
    "print(\"Expected frequencies:\\n\", expected)"
   ]
  },
  {
   "cell_type": "code",
   "execution_count": null,
   "id": "659ac653-0c1e-461d-9aed-b40483dfe6be",
   "metadata": {},
   "outputs": [],
   "source": []
  }
 ],
 "metadata": {
  "kernelspec": {
   "display_name": "Python 3 (ipykernel)",
   "language": "python",
   "name": "python3"
  },
  "language_info": {
   "codemirror_mode": {
    "name": "ipython",
    "version": 3
   },
   "file_extension": ".py",
   "mimetype": "text/x-python",
   "name": "python",
   "nbconvert_exporter": "python",
   "pygments_lexer": "ipython3",
   "version": "3.9.13"
  }
 },
 "nbformat": 4,
 "nbformat_minor": 5
}
