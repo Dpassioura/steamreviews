{
 "cells": [
  {
   "cell_type": "code",
   "execution_count": 194,
   "id": "8a38c75c-5f64-44ba-81fe-cbc72c5f30fb",
   "metadata": {},
   "outputs": [
    {
     "name": "stdout",
     "output_type": "stream",
     "text": [
      "<class 'pandas.core.frame.DataFrame'>\n",
      "RangeIndex: 434891 entries, 0 to 434890\n",
      "Data columns (total 8 columns):\n",
      " #   Column                  Non-Null Count   Dtype \n",
      "---  ------                  --------------   ----- \n",
      " 0   date_posted             434891 non-null  object\n",
      " 1   funny                   434891 non-null  int64 \n",
      " 2   helpful                 434891 non-null  int64 \n",
      " 3   hour_played             434891 non-null  int64 \n",
      " 4   is_early_access_review  434891 non-null  bool  \n",
      " 5   recommendation          434891 non-null  object\n",
      " 6   review                  433375 non-null  object\n",
      " 7   title                   434891 non-null  object\n",
      "dtypes: bool(1), int64(3), object(4)\n",
      "memory usage: 23.6+ MB\n"
     ]
    },
    {
     "data": {
      "text/plain": [
       "None"
      ]
     },
     "metadata": {},
     "output_type": "display_data"
    }
   ],
   "source": [
    "import pandas as pd\n",
    "import numpy as np\n",
    "import matplotlib.pyplot as plt\n",
    "%matplotlib inline\n",
    "import seaborn as sns\n",
    "df = pd.read_csv(r'C:\\Users\\kingd\\Documents\\mydata\\steam_reviews.csv')\n",
    "display(df.info())"
   ]
  },
  {
   "cell_type": "code",
   "execution_count": 195,
   "id": "8c20e5d0-9f0d-4c2c-b7bb-adb7477cbca6",
   "metadata": {},
   "outputs": [
    {
     "name": "stdout",
     "output_type": "stream",
     "text": [
      "date_posted                  0\n",
      "funny                        0\n",
      "helpful                      0\n",
      "hour_played                  0\n",
      "is_early_access_review       0\n",
      "recommendation               0\n",
      "review                    1516\n",
      "title                        0\n",
      "dtype: int64\n"
     ]
    }
   ],
   "source": [
    "print(df.isna().sum())"
   ]
  },
  {
   "cell_type": "code",
   "execution_count": 196,
   "id": "0f60d53c-09ad-4d42-993e-e9cd38f1bcb4",
   "metadata": {},
   "outputs": [
    {
     "name": "stdout",
     "output_type": "stream",
     "text": [
      "date_posted               0\n",
      "funny                     0\n",
      "helpful                   0\n",
      "hour_played               0\n",
      "is_early_access_review    0\n",
      "recommendation            0\n",
      "review                    0\n",
      "title                     0\n",
      "dtype: int64\n"
     ]
    },
    {
     "data": {
      "text/html": [
       "<div>\n",
       "<style scoped>\n",
       "    .dataframe tbody tr th:only-of-type {\n",
       "        vertical-align: middle;\n",
       "    }\n",
       "\n",
       "    .dataframe tbody tr th {\n",
       "        vertical-align: top;\n",
       "    }\n",
       "\n",
       "    .dataframe thead th {\n",
       "        text-align: right;\n",
       "    }\n",
       "</style>\n",
       "<table border=\"1\" class=\"dataframe\">\n",
       "  <thead>\n",
       "    <tr style=\"text-align: right;\">\n",
       "      <th></th>\n",
       "      <th>date_posted</th>\n",
       "      <th>funny</th>\n",
       "      <th>helpful</th>\n",
       "      <th>hour_played</th>\n",
       "      <th>is_early_access_review</th>\n",
       "      <th>recommendation</th>\n",
       "      <th>review</th>\n",
       "      <th>title</th>\n",
       "    </tr>\n",
       "  </thead>\n",
       "  <tbody>\n",
       "    <tr>\n",
       "      <th>0</th>\n",
       "      <td>2019-02-10</td>\n",
       "      <td>2</td>\n",
       "      <td>4</td>\n",
       "      <td>578</td>\n",
       "      <td>False</td>\n",
       "      <td>Recommended</td>\n",
       "      <td>&amp;gt Played as German Reich&amp;gt Declare war on B...</td>\n",
       "      <td>Expansion - Hearts of Iron IV: Man the Guns</td>\n",
       "    </tr>\n",
       "    <tr>\n",
       "      <th>1</th>\n",
       "      <td>2019-02-10</td>\n",
       "      <td>0</td>\n",
       "      <td>0</td>\n",
       "      <td>184</td>\n",
       "      <td>False</td>\n",
       "      <td>Recommended</td>\n",
       "      <td>yes.</td>\n",
       "      <td>Expansion - Hearts of Iron IV: Man the Guns</td>\n",
       "    </tr>\n",
       "    <tr>\n",
       "      <th>2</th>\n",
       "      <td>2019-02-07</td>\n",
       "      <td>0</td>\n",
       "      <td>0</td>\n",
       "      <td>892</td>\n",
       "      <td>False</td>\n",
       "      <td>Recommended</td>\n",
       "      <td>Very good game although a bit overpriced in my...</td>\n",
       "      <td>Expansion - Hearts of Iron IV: Man the Guns</td>\n",
       "    </tr>\n",
       "    <tr>\n",
       "      <th>3</th>\n",
       "      <td>2018-06-14</td>\n",
       "      <td>126</td>\n",
       "      <td>1086</td>\n",
       "      <td>676</td>\n",
       "      <td>False</td>\n",
       "      <td>Recommended</td>\n",
       "      <td>Out of all the reviews I wrote This one is pro...</td>\n",
       "      <td>Dead by Daylight</td>\n",
       "    </tr>\n",
       "    <tr>\n",
       "      <th>4</th>\n",
       "      <td>2017-06-20</td>\n",
       "      <td>85</td>\n",
       "      <td>2139</td>\n",
       "      <td>612</td>\n",
       "      <td>False</td>\n",
       "      <td>Recommended</td>\n",
       "      <td>Disclaimer I survivor main. I play games for f...</td>\n",
       "      <td>Dead by Daylight</td>\n",
       "    </tr>\n",
       "  </tbody>\n",
       "</table>\n",
       "</div>"
      ],
      "text/plain": [
       "  date_posted  funny  helpful  hour_played  is_early_access_review  \\\n",
       "0  2019-02-10      2        4          578                   False   \n",
       "1  2019-02-10      0        0          184                   False   \n",
       "2  2019-02-07      0        0          892                   False   \n",
       "3  2018-06-14    126     1086          676                   False   \n",
       "4  2017-06-20     85     2139          612                   False   \n",
       "\n",
       "  recommendation                                             review  \\\n",
       "0    Recommended  &gt Played as German Reich&gt Declare war on B...   \n",
       "1    Recommended                                               yes.   \n",
       "2    Recommended  Very good game although a bit overpriced in my...   \n",
       "3    Recommended  Out of all the reviews I wrote This one is pro...   \n",
       "4    Recommended  Disclaimer I survivor main. I play games for f...   \n",
       "\n",
       "                                         title  \n",
       "0  Expansion - Hearts of Iron IV: Man the Guns  \n",
       "1  Expansion - Hearts of Iron IV: Man the Guns  \n",
       "2  Expansion - Hearts of Iron IV: Man the Guns  \n",
       "3                             Dead by Daylight  \n",
       "4                             Dead by Daylight  "
      ]
     },
     "metadata": {},
     "output_type": "display_data"
    }
   ],
   "source": [
    "df = df.dropna(subset=['review'])\n",
    "print(df.isna().sum())\n",
    "display(df.head())"
   ]
  },
  {
   "cell_type": "code",
   "execution_count": 244,
   "id": "d1f1260c-db03-4565-a1c2-511fd97469d4",
   "metadata": {},
   "outputs": [
    {
     "data": {
      "text/plain": [
       "([<matplotlib.axis.XTick at 0x20d9956a670>,\n",
       "  <matplotlib.axis.XTick at 0x20d9956a940>],\n",
       " [Text(0, 0, 'Not Early Access'), Text(1, 0, 'In Early Access')])"
      ]
     },
     "execution_count": 244,
     "metadata": {},
     "output_type": "execute_result"
    },
    {
     "data": {
      "image/png": "[encoded data removed]",
      "text/plain": [
       "<Figure size 640x480 with 1 Axes>"
      ]
     },
     "metadata": {},
     "output_type": "display_data"
    }
   ],
   "source": [
    "steam_colors = [\"#171A21\", \"#66c0f4\", \"#1b2838\", \"#2a475e\", \"#c7d5e0\"]\n",
    "sns.set_palette(sns.color_palette(steam_colors))\n",
    "sns.countplot(x=\"is_early_access_review\", hue=\"recommendation\", data=df)\n",
    "plt.xlabel(\"Early Access\") \n",
    "plt.ylabel(\"Number of Reviews\") \n",
    "plt.xticks([0, 1], [\"Not Early Access\", \"In Early Access\"])\n",
    "# This graph does to an extent show a relationship, but the bars don't convey it very well."
   ]
  },
  {
   "cell_type": "code",
   "execution_count": 225,
   "id": "1e6dbab7-7fef-4bc3-9123-94a5889129da",
   "metadata": {},
   "outputs": [
    {
     "data": {
      "text/plain": [
       "False    0.70757\n",
       "True     0.29243\n",
       "Name: is_early_access_review, dtype: float64"
      ]
     },
     "execution_count": 225,
     "metadata": {},
     "output_type": "execute_result"
    }
   ],
   "source": [
    "df['is_early_access_review'].value_counts(normalize = True)"
   ]
  },
  {
   "cell_type": "code",
   "execution_count": 226,
   "id": "b7d8fb34-c9ea-4f5d-bc27-ffa4a4021f9b",
   "metadata": {},
   "outputs": [
    {
     "data": {
      "text/plain": [
       "Recommended        0.698589\n",
       "Not Recommended    0.301411\n",
       "Name: recommendation, dtype: float64"
      ]
     },
     "execution_count": 226,
     "metadata": {},
     "output_type": "execute_result"
    }
   ],
   "source": [
    "df['recommendation'].value_counts(normalize = True)"
   ]
  },
  {
   "cell_type": "code",
   "execution_count": 227,
   "id": "a7d3b404-ced2-428a-aa2a-1ac478a4955d",
   "metadata": {},
   "outputs": [],
   "source": [
    "from scipy.stats import chi2_contingency"
   ]
  },
  {
   "cell_type": "code",
   "execution_count": 228,
   "id": "bf8fb653-ff7b-4656-abff-718211027aa8",
   "metadata": {},
   "outputs": [],
   "source": [
    "ct = pd.crosstab(df['is_early_access_review'], df['recommendation'])"
   ]
  },
  {
   "cell_type": "code",
   "execution_count": 229,
   "id": "ef74edce-a8c5-4eea-acdd-ed0539154c18",
   "metadata": {},
   "outputs": [],
   "source": [
    "chi2, p, dof, expected = chi2_contingency(ct)\n",
    "n = ct.sum().sum()\n",
    "phi = np.sqrt(chi2/n)"
   ]
  },
  {
   "cell_type": "code",
   "execution_count": 230,
   "id": "f918347c-6108-48a6-97f6-8f62e4e9128d",
   "metadata": {},
   "outputs": [
    {
     "name": "stdout",
     "output_type": "stream",
     "text": [
      "Chi-squared statistic:  3710.277468930826\n",
      "P-value:  0.0\n",
      "Degrees of freedom:  1\n",
      "Phi coefficient:  0.09252759354478898\n",
      "Expected frequencies:\n",
      " [[ 92425.57884511 214217.42115489]\n",
      " [ 38198.42115489  88533.57884511]]\n"
     ]
    }
   ],
   "source": [
    "print(\"Chi-squared statistic: \", chi2)\n",
    "print(\"P-value: \", p)\n",
    "print(\"Degrees of freedom: \", dof)\n",
    "print(\"Phi coefficient: \", phi)\n",
    "print(\"Expected frequencies:\\n\", expected)"
   ]
  },
  {
   "cell_type": "code",
   "execution_count": 231,
   "id": "659ac653-0c1e-461d-9aed-b40483dfe6be",
   "metadata": {},
   "outputs": [
    {
     "data": {
      "text/plain": [
       "date_posted               object\n",
       "funny                      int64\n",
       "helpful                    int64\n",
       "hour_played                int64\n",
       "is_early_access_review      bool\n",
       "recommendation            object\n",
       "review                    object\n",
       "title                     object\n",
       "month                      int64\n",
       "year                       int64\n",
       "dtype: object"
      ]
     },
     "execution_count": 231,
     "metadata": {},
     "output_type": "execute_result"
    }
   ],
   "source": [
    "df.dtypes"
   ]
  },
  {
   "cell_type": "code",
   "execution_count": 232,
   "id": "2f148ae5-c31e-4a79-bdb1-b2c12b5a64a4",
   "metadata": {},
   "outputs": [],
   "source": [
    "df['date'] = pd.to_datetime(df['date_posted'])\n",
    "df.set_index('date', inplace=True)"
   ]
  },
  {
   "cell_type": "code",
   "execution_count": 233,
   "id": "43e8f4aa-a584-4c02-90a5-ed0378deecf1",
   "metadata": {},
   "outputs": [],
   "source": [
    "df['month'] = df.index.month\n",
    "df['year'] = df.index.year"
   ]
  },
  {
   "cell_type": "code",
   "execution_count": 234,
   "id": "4ecd5ef6-0d98-4934-84ff-e8b510f40fd2",
   "metadata": {},
   "outputs": [],
   "source": [
    "new_df = df.groupby(['year', 'month', 'recommendation','is_early_access_review']).size().reset_index(name='count')\n",
    "new_df = new_df[new_df['year'] >= 2013]\n",
    "avg_year = new_df.groupby(['year','recommendation'])['count'].mean().reset_index()"
   ]
  },
  {
   "cell_type": "code",
   "execution_count": 259,
   "id": "bc08c35d-6301-44c8-927a-893938f791df",
   "metadata": {
    "tags": []
   },
   "outputs": [
    {
     "data": {
      "image/png": "[encoded data removed]",
      "text/plain": [
       "<Figure size 640x480 with 1 Axes>"
      ]
     },
     "metadata": {},
     "output_type": "display_data"
    }
   ],
   "source": [
    "steam_colors = [\"#171A21\", \"#66c0f4\", \"#1b2838\", \"#2a475e\", \"#c7d5e0\"]\n",
    "sns.set_palette(sns.color_palette(steam_colors))\n",
    "sns.lineplot(data=new_df, x='year', y='count', hue='recommendation', markers=True)\n",
    "sns.scatterplot(data=avg_year, x='year', y='count', color=steam_colors[4], markers='o', s=100, edgecolor='k', linewidth=1)\n",
    "plt.xticks(range(2013, max(new_df['year'])+1))\n",
    "plt.xlim(2012.8, max(new_df['year'])+0.20)\n",
    "plt.title('Steam Reviews By Year')\n",
    "plt.ylabel(\"Average Number of Reviews per Day\") \n",
    "plt.xlabel(\"Year\") \n",
    "plt.show()"
   ]
  },
  {
   "cell_type": "code",
   "execution_count": 236,
   "id": "51d7d336-04b7-4531-a5e3-1a390674dd0e",
   "metadata": {},
   "outputs": [
    {
     "data": {
      "text/plain": [
       "True     0.970672\n",
       "False    0.029328\n",
       "Name: is_early_access_review, dtype: float64"
      ]
     },
     "metadata": {},
     "output_type": "display_data"
    },
    {
     "data": {
      "text/plain": [
       "Recommended        0.857306\n",
       "Not Recommended    0.142694\n",
       "Name: recommendation, dtype: float64"
      ]
     },
     "metadata": {},
     "output_type": "display_data"
    }
   ],
   "source": [
    "df_2014 = df[df['year'] == 2014]\n",
    "display(df_2014['is_early_access_review'].value_counts(normalize = True))\n",
    "display(df_2014['recommendation'].value_counts(normalize = True))"
   ]
  },
  {
   "cell_type": "code",
   "execution_count": 237,
   "id": "f75fae74-ed96-4e3a-8729-c1e4dbbd932c",
   "metadata": {},
   "outputs": [
    {
     "data": {
      "text/plain": [
       "False    0.764721\n",
       "True     0.235279\n",
       "Name: is_early_access_review, dtype: float64"
      ]
     },
     "metadata": {},
     "output_type": "display_data"
    },
    {
     "data": {
      "text/plain": [
       "Recommended        0.79396\n",
       "Not Recommended    0.20604\n",
       "Name: recommendation, dtype: float64"
      ]
     },
     "metadata": {},
     "output_type": "display_data"
    }
   ],
   "source": [
    "df_2015 = df[df['year'] == 2015]\n",
    "display(df_2015['is_early_access_review'].value_counts(normalize = True))\n",
    "display(df_2015['recommendation'].value_counts(normalize = True))"
   ]
  },
  {
   "cell_type": "code",
   "execution_count": 238,
   "id": "06d6c20a-5260-445a-83c7-9f02fd4b2c01",
   "metadata": {},
   "outputs": [
    {
     "data": {
      "text/plain": [
       "False    0.787652\n",
       "True     0.212348\n",
       "Name: is_early_access_review, dtype: float64"
      ]
     },
     "metadata": {},
     "output_type": "display_data"
    },
    {
     "data": {
      "text/plain": [
       "Recommended        0.8341\n",
       "Not Recommended    0.1659\n",
       "Name: recommendation, dtype: float64"
      ]
     },
     "metadata": {},
     "output_type": "display_data"
    }
   ],
   "source": [
    "df_2016 = df[df['year'] == 2016]\n",
    "display(df_2016['is_early_access_review'].value_counts(normalize = True))\n",
    "display(df_2016['recommendation'].value_counts(normalize = True))"
   ]
  },
  {
   "cell_type": "code",
   "execution_count": 239,
   "id": "5d4977cb-8c09-480f-b431-27d23837550f",
   "metadata": {},
   "outputs": [
    {
     "data": {
      "text/plain": [
       "False    0.513193\n",
       "True     0.486807\n",
       "Name: is_early_access_review, dtype: float64"
      ]
     },
     "metadata": {},
     "output_type": "display_data"
    },
    {
     "data": {
      "text/plain": [
       "Recommended        0.637945\n",
       "Not Recommended    0.362055\n",
       "Name: recommendation, dtype: float64"
      ]
     },
     "metadata": {},
     "output_type": "display_data"
    }
   ],
   "source": [
    "df_2017 = df[df['year'] == 2017]\n",
    "display(df_2017['is_early_access_review'].value_counts(normalize = True))\n",
    "display(df_2017['recommendation'].value_counts(normalize = True))"
   ]
  },
  {
   "cell_type": "code",
   "execution_count": 240,
   "id": "48224f68-529e-4de2-82f7-6558059c489b",
   "metadata": {},
   "outputs": [
    {
     "data": {
      "text/plain": [
       "False    0.980255\n",
       "True     0.019745\n",
       "Name: is_early_access_review, dtype: float64"
      ]
     },
     "metadata": {},
     "output_type": "display_data"
    },
    {
     "data": {
      "text/plain": [
       "Recommended        0.651718\n",
       "Not Recommended    0.348282\n",
       "Name: recommendation, dtype: float64"
      ]
     },
     "metadata": {},
     "output_type": "display_data"
    }
   ],
   "source": [
    "df_2018 = df[df['year'] == 2018]\n",
    "display(df_2018['is_early_access_review'].value_counts(normalize = True))\n",
    "display(df_2018['recommendation'].value_counts(normalize = True))"
   ]
  },
  {
   "cell_type": "code",
   "execution_count": 241,
   "id": "26958313-cb92-4817-bd1f-131ca69c9e08",
   "metadata": {},
   "outputs": [
    {
     "data": {
      "text/plain": [
       "False    0.987894\n",
       "True     0.012106\n",
       "Name: is_early_access_review, dtype: float64"
      ]
     },
     "metadata": {},
     "output_type": "display_data"
    },
    {
     "data": {
      "text/plain": [
       "Recommended        0.742224\n",
       "Not Recommended    0.257776\n",
       "Name: recommendation, dtype: float64"
      ]
     },
     "metadata": {},
     "output_type": "display_data"
    }
   ],
   "source": [
    "df_2019 = df[df['year'] == 2019]\n",
    "display(df_2019['is_early_access_review'].value_counts(normalize = True))\n",
    "display(df_2019['recommendation'].value_counts(normalize = True))"
   ]
  },
  {
   "cell_type": "code",
   "execution_count": null,
   "id": "67b49f41-9fce-4039-8ba5-62c1277b6fd2",
   "metadata": {},
   "outputs": [],
   "source": []
  }
 ],
 "metadata": {
  "kernelspec": {
   "display_name": "Python 3 (ipykernel)",
   "language": "python",
   "name": "python3"
  },
  "language_info": {
   "codemirror_mode": {
    "name": "ipython",
    "version": 3
   },
   "file_extension": ".py",
   "mimetype": "text/x-python",
   "name": "python",
   "nbconvert_exporter": "python",
   "pygments_lexer": "ipython3",
   "version": "3.9.13"
  }
 },
 "nbformat": 4,
 "nbformat_minor": 5
}
